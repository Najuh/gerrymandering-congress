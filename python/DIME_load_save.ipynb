{
 "cells": [
  {
   "cell_type": "code",
   "execution_count": null,
   "metadata": {
    "collapsed": false
   },
   "outputs": [],
   "source": [
    "from __future__ import print_function, division\n",
    "import json\n",
    "import pandas as pd\n",
    "import numpy as np\n",
    "import matplotlib.pyplot as plt\n",
    "import congress_tools as cong\n",
    "\n",
    "%matplotlib inline"
   ]
  },
  {
   "cell_type": "code",
   "execution_count": null,
   "metadata": {
    "collapsed": false
   },
   "outputs": [],
   "source": [
    "#reading data \n",
    "with open(\"../data/fips2State.json\",\"rb\") as f:\n",
    "    fips2state=json.load(f)\n",
    "with open(\"../data/state2St.json\",\"rb\") as f:\n",
    "    state2st=json.load(f)\n",
    "with open(\"../data/st2Fips.json\",\"rb\") as f:\n",
    "    st2fips=json.load(f)"
   ]
  },
  {
   "cell_type": "code",
   "execution_count": null,
   "metadata": {
    "collapsed": false
   },
   "outputs": [],
   "source": [
    "states = []\n",
    "for st in fips2state.values():\n",
    "    try:\n",
    "        states.append(state2st[st])\n",
    "    except:\n",
    "        pass"
   ]
  },
  {
   "cell_type": "raw",
   "metadata": {},
   "source": [
    "1) cycle: Four digit number that indicates the two-year election cycle during which the con-\n",
    "tribution was recorded.\n",
    "2) election: Election cycle preceded by two-letter state code. Federal candidates have ’fd’ as the state code.\n",
    "3) Cand.ID: The candidate ID assigned by the FEC.\n",
    "4) FEC.ID: The ID assigned by the FEC to the candidates campaign committee.\n",
    "5) NID: (CRP) Unique candidate IDs assigned by the Center for Responsive Politics.\n",
    "6) ICPSR: Adjusted ICPSR legislator ID. Candidates that have never served in Congress are assigned IDs based off of their FEC IDs. The four-digit election cycle is appended to the end of each ID to distinguish separate entries from the same candidate. Candidates that are active in multiple election cycles will have multiple IDs.\n",
    "7) ICPSR2: Adjusted ICPSR legislator ID. Each candidate receives a unique ID that is constant across election cycles. Following Poole and Rosenthal, party switchers are assigned new ICPSR2 IDs after switching parties.\n",
    "8) bonica.rid: Unique ID assigned to candidates/recipients. Each candidate/recipient re- ceives a unique ID that is constant across election cycles, levels of government, and offices sought. With the exception of party-switchers the bonica.rid values have a one-to-one cor- respondence with the ICPSR2 scores. (Use this variable to merge with the database of contribution records).\n",
    "9) bonica.cid: The unique contributor ID for the candidate. This variable can be used to match candidates with their personal contributions records. (Note: The construction of this variable is not yet complete. It includes a partial set candidates that could be easily linked with their contribution records using an automated matching scheme. Missing values do not necessarily mean that a candidate has not made contributions).\n",
    "10) Name: Name of the candidate/recipient.\n",
    "11) Party: Party of candidate/recipient (100 = Dem, 200 = Rep, 328 = Ind).\n",
    "12) State: Two-letter state abbreviations.\n",
    "13) seat: Office sought. Committees are listed as federal:committee. See section on seat codes below.\n",
    "14) District: District code: two-letter state code followed by congressional district number. District numbers for senate candidates take on the value of ’S’ followed by the year of the seat will be up for election.\n",
    "15) Incum.Chall: Incumbency status. (’I’ = Incumbent, ’C’ = Challenger, ’O’ = Open Seat Candidate, ” - not up for election).\n",
    "16) cfscore: Candidate/recipient ideal point estimates.\n",
    "17) cfscores.dyn: Period-specific ideal point estimates. (Candidate/recipient ideal points are\n",
    "re-estimated in each election cycle while holding contributor ideal points constant.)\n",
    "18) dwnom1: (PR) First dimension common-space DW-NOMINATE score. (Based on joint scaling of the 1st to the 112th Congresses.)\n",
    "19) dwnom2: (PR) Second dimension common-space DW-NOMINATE score.\n",
    "20) ps.dwnom1: (PR) First dimension Nokken-Poole period-specific DW-NOMINATE score. (Scores for the House and Senate are scaled separately and thus should not be directly compared.)\n",
    "21) ps.dwnom2: (PR) Second dimension Nokken-Poole period-specific DW-NOMINATE score.\n",
    "22) num.givers: Number of distict donors that gave to the candidate during a specific election cycle.\n",
    "23) num.givers.total: Number of district donors that gave to the candidate/recipient aggre- gating over the candidate/recipient’s career.\n",
    "24) cand.gender: Candidate gender codings. (With the exceptions of candidates that have served in Congress, all gender codes are based on an automated coding scheme that in- corporates information gender ratios of first names as reported by the U.S. Census and gender-specific titles (e.g. Mrs., Mr., Jr., Sr.) reported in the contribution records.\n",
    "25) total.disbursements: Total campaign disbursements (in dollars) for the given election cycle.\n",
    "26) total.pc.contribs: Total receipts from party committees.\n",
    "27) contribs.from.candidate: total receipts from candidate contributions.\n",
    "28) unitemized: total unitemized receipts.\n",
    "29) non.party.ind.exp.for: non-party independent expenditures made in support of the can- didate.\n",
    "30) non.party.ind.exp.against: non-party independent expenditures made against the can- didate.\n",
    "31) ind.exp.for: total independent expenditures made to support the candidate.\n",
    "32) ind.exp.against: total independent expenditures made against the candidate.\n",
    "33) comm.cost.for: total communication costs made on behalf of the candidate.\n",
    "34) comm.cost.against: total communication costs made to oppose the candidate.\n",
    "35) party.coord.exp: total party coordinated expenditures.\n",
    "36) party.ind.exp.against: total independent expenditures made by opposing party against the candidate.\n",
    "37) total.receipts: total dollars raised by candidate during an election cycle.\n",
    "38) total.pac.contributions: total PAC receipts.\n",
    "39) total.indiv.contributions: total individual receipts.\n",
    "40) ran.primary: indicator variable for whether the candidate was active in primary elections.\n",
    "41) ran.general: indicator variable for whether the candidate was active in general elections.\n",
    "42) p.elec.stat: FEC primary election code (W = Win) (L = Lose).\n",
    "43) s.elec.stat: FEC special election code (W = Win) (L = Lose).\n",
    "44) r.elec.stat: FEC run-off election code (W = Win) (L = Lose).\n",
    "45) gen.elec.stat: FEC general election code (W = Win) (L = Lose).\n",
    "46) gen.elect.pct: FEC reported vote share in general election.\n",
    "47) winner: ’W’ = won election; ’L’ = lost election.\n",
    "48) district.partisanship: Kernell’s (2009) measure of district partisanship for the current election cycle.\n",
    "49) mu.est80s: Kernell’s (2009) measure of district partisanship in the 1980’s. Higher numbers indicate more democratic districts.\n",
    "50) mu.est90s: Kernell’s (2009) Measure of district partisanship in the 1990’s. Higher numbers indicate more democratic districts.\n",
    "51) mu.est00s: Kernell’s (2009) Measure of district partisanship in the 2000’s. Higher numbers indicate more democratic districts.\n",
    "52) district.pres.vs: district-level percentage of the two-party vote share won by the Demo- cratic presidential nominee in the most recent presidential election.\n",
    "53) dvp1984: District-level two-party vote share won by the Democratic presidential nominee in 1984.\n",
    "54) dvp1988: District-level two-party vote share won by the Democratic presidential nominee in 1988.\n",
    "55) dvp1992: District-level two-party vote share won by the Democratic presidential nominee in 1992.\n",
    "56) dvp1996: District-level two-party vote share won by the Democratic presidential nominee in 1996.\n",
    "57) dvp2000: District-level two-party vote share won by the Democratic presidential nominee in 2000.\n",
    "58) dvp2004: District-level two-party vote share won by the Democratic presidential nominee in 2004.\n",
    "59) dvp2008: District-level two-party vote share won by the Democratic presidential nominee in 2008.\n",
    "60) dvp2012: District-level two-party vote share won by the Democratic presidential nominee in 2012.\n",
    "61) avg.donor.cfscore.in.cd: The mean ideal point of the population of donors residing within the congressional district.\n",
    "62) prop.in.dist.w.org: proportion of candidate’s $’s raised from donors residing within the candidate’s district.\n",
    "63) prop.in.state.w.org: proportion of candidate’s $’s raised from donors residing within the candidate’s state.\n",
    "64) CandStatus: indicates the status of the candidate’s campaign assigned by the FEC. (’C’ = Statutory candidate; ’F’ = Statutory candidate for future election; ’N’ = Not yet a statutory candidate; ’P’ = Statutory candidate in prior cycle).\n",
    "65) fecyear: Year listed by the FEC indicating the year of campaign’s the target election. The ’election’ variable indicates the election cycle during which the contribution was received. But the election can occur in a future cycle—as is the case for senators that fundraise during their first four years in office.\n",
    "66) cand.or.committee: (cands = candidate, comm = committee).\n",
    "67) nimsp.party: (nimsp) three-letter party code assigned by the NIMSP.\n",
    "68) nimsp.candidate.ICO.code: (nimsp) incumbency status assigned by the NIMSP.\n",
    "69) nimsp.district: (nimsp) district number assigned by the NIMSP.\n",
    "70) nimsp.office: (nimsp) state-office sought.\n",
    "71) nimsp.candidate.status: (nimsp) election outcome.\n",
    "72) before.switch.ICPSR: ICPSR ID prior to switching parties (included for party-switchers only).\n",
    "73) after.switch.ICPSR: ICPSR ID after switching parties (included for party-switchers only).\n"
   ]
  },
  {
   "cell_type": "markdown",
   "metadata": {},
   "source": [
    "# Make sure you downloaded the DIME data from http://data.stanford.edu/dime/ and put the relevant csv in ../data/"
   ]
  },
  {
   "cell_type": "code",
   "execution_count": null,
   "metadata": {
    "collapsed": false
   },
   "outputs": [],
   "source": [
    "# read in the DIME CFscore data\n",
    "\n",
    "dimeData = \"../data/candidate_cfscores_st_fed_1979_2012.csv\"\n",
    "\n",
    "try:\n",
    "    main_df = pd.read_csv(dimeData, dtype=str)\n",
    "except IOError as e:\n",
    "    print(\"Unable to read DIME data. Make sure you have downloaded it and placed in ../data/\")"
   ]
  },
  {
   "cell_type": "code",
   "execution_count": null,
   "metadata": {
    "collapsed": false
   },
   "outputs": [],
   "source": [
    "election2012_df = main_df[(main_df.cycle=='2012') \n",
    "                          & (main_df.seat=='federal:house')\n",
    "                          & (main_df.State.isin(states))\n",
    "                          & (main_df.winner == \"W\")]"
   ]
  },
  {
   "cell_type": "code",
   "execution_count": null,
   "metadata": {
    "collapsed": false
   },
   "outputs": [],
   "source": [
    "election2012 = election2012_df.ix[:,['State', 'Incum.Chall', 'cfscore', 'cfscores.dyn']]\n",
    "\n",
    "def split2fips(district,st2fips):\n",
    "    st = district[:2]\n",
    "    fip_end = district[2:]\n",
    "    return st2fips[st]+fip_end\n",
    "\n",
    "election2012['ficd'] = election2012_df.District.apply(split2fips,args=(st2fips,))\n",
    "\n",
    "election2012_df['Party'][election2012_df['Party'] == '100'] = 'D'\n",
    "election2012_df['Party'][election2012_df['Party'] == '200'] = 'R'\n",
    "election2012_df['Party'][election2012_df['Party'] == '328'] = 'I'\n",
    "election2012['party'] = election2012_df.Party\n",
    "\n",
    "lastName = []\n",
    "firstName = []\n",
    "for idx, n in election2012_df.Name.iteritems():\n",
    "    lName, fName = cong.splitName(n)\n",
    "    lastName.append(lName)\n",
    "    firstName.append(fName)\n",
    "\n",
    "election2012['lastName'] = lastName\n",
    "election2012['firstName'] = firstName\n"
   ]
  },
  {
   "cell_type": "code",
   "execution_count": null,
   "metadata": {
    "collapsed": false
   },
   "outputs": [],
   "source": [
    "# Change At-Large districts, stored as cd=01 in DIME, to cd=00\n",
    "\n",
    "oneCD = ['AK', 'DE', 'MT', 'ND', 'SD', 'VT', 'WY']\n",
    "\n",
    "count = -1\n",
    "for idx, row in election2012.iterrows():\n",
    "    count += 1\n",
    "    if row['State'] in oneCD and row.ficd[2:] == '01':\n",
    "        election2012.ficd.iloc[count] = election2012.ficd.iloc[count].replace('01','00')\n"
   ]
  },
  {
   "cell_type": "code",
   "execution_count": null,
   "metadata": {
    "collapsed": false
   },
   "outputs": [],
   "source": [
    "election2012.set_index(['ficd'], inplace=True)"
   ]
  },
  {
   "cell_type": "code",
   "execution_count": null,
   "metadata": {
    "collapsed": false
   },
   "outputs": [],
   "source": [
    "election2012[['cfscore']] = election2012[['cfscore']].astype(float)\n",
    "election2012[['cfscores.dyn']] = election2012[['cfscores.dyn']].astype(float)"
   ]
  },
  {
   "cell_type": "code",
   "execution_count": null,
   "metadata": {
    "collapsed": false
   },
   "outputs": [],
   "source": [
    "# load district summary dataframe\n",
    "\n",
    "includeThirdParty = False\n",
    "\n",
    "methodReapportion = 'state'\n",
    "# methodReapportion = 'country'\n",
    "\n",
    "year = 2012\n",
    "# year = 2014\n",
    "\n",
    "if year == 2014:\n",
    "    congNum = 114\n",
    "elif year == 2012:\n",
    "    congNum = 113\n",
    "\n",
    "# load the district dataframe, saved by preprocess.ipynb\n",
    "filename = '../data/df_distSummary_%d_%sReapportion.pkl' % (year,methodReapportion)\n",
    "df = pd.read_pickle(filename)\n",
    "\n",
    "# turn votes into percentages\n",
    "\n",
    "if includeThirdParty:\n",
    "    totalVotes = df.nDemVotes_dist + df.nRepVotes_dist + df.nOthVotes_dist\n",
    "else:\n",
    "    totalVotes = df.nDemVotes_dist + df.nRepVotes_dist\n",
    "\n",
    "df['demVotes_perc'] = (df.nDemVotes_dist / totalVotes) * 100\n",
    "df['repVotes_perc'] = (df.nRepVotes_dist / totalVotes) * 100\n",
    "if includeThirdParty:\n",
    "    df['othVotes_perc'] = (df.nOthVotes_dist / totalVotes) * 100\n",
    "\n",
    "df.set_index(['ficd'], inplace=True)"
   ]
  },
  {
   "cell_type": "code",
   "execution_count": null,
   "metadata": {
    "collapsed": false
   },
   "outputs": [],
   "source": [
    "# see if there are any candidates in our data that aren't in the DIME data\n",
    "c = 0\n",
    "for idx, row in df.iterrows():\n",
    "    #dimeCD = election2012[(election2012.ficd == row.ficd) & (election2012.lastName.str.contains(row.lastName))]\n",
    "    dimeCD = election2012[(election2012.index == idx) & (election2012.lastName.str.contains(row.lastName))]\n",
    "    if len(dimeCD) == 0:\n",
    "        c += 1\n",
    "        #print(row)\n",
    "        #print('\\n')\n",
    "print(c)"
   ]
  },
  {
   "cell_type": "code",
   "execution_count": null,
   "metadata": {
    "collapsed": false
   },
   "outputs": [],
   "source": [
    "# Al Green (TX09/4809) is missing from DIME data\n",
    "ficd = '4809'\n",
    "\n",
    "# print(df[df.ficd == ficd])\n",
    "# print(election2012[election2012.ficd == ficd])\n",
    "\n",
    "print(df[df.index == ficd])\n",
    "print(election2012[election2012.index == ficd])"
   ]
  },
  {
   "cell_type": "code",
   "execution_count": null,
   "metadata": {
    "collapsed": false
   },
   "outputs": [],
   "source": [
    "dfjoin = pd.merge(df, election2012, how='left', left_index=True, right_index=True)"
   ]
  },
  {
   "cell_type": "code",
   "execution_count": null,
   "metadata": {
    "collapsed": false
   },
   "outputs": [],
   "source": [
    "# any duplicate indices?\n",
    "\n",
    "for i in range(1,len(dfjoin)):\n",
    "    if dfjoin.index[i] == dfjoin.index[i-1]:\n",
    "        print(dfjoin.iloc[i])\n",
    "        print('\\n')"
   ]
  },
  {
   "cell_type": "code",
   "execution_count": null,
   "metadata": {
    "collapsed": false
   },
   "outputs": [],
   "source": [
    "# save the new dataframe with all info\n",
    "\n",
    "filename = '../data/df_distSummary_DIME_%d_%sReapportion.pkl' % (year, methodReapportion)\n",
    "dfjoin.to_pickle(filename)"
   ]
  }
 ],
 "metadata": {
  "kernelspec": {
   "display_name": "Python 2",
   "language": "python",
   "name": "python2"
  },
  "language_info": {
   "codemirror_mode": {
    "name": "ipython",
    "version": 2
   },
   "file_extension": ".py",
   "mimetype": "text/x-python",
   "name": "python",
   "nbconvert_exporter": "python",
   "pygments_lexer": "ipython2",
   "version": "2.7.9"
  }
 },
 "nbformat": 4,
 "nbformat_minor": 0
}
