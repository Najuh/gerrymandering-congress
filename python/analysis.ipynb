{
 "cells": [
  {
   "cell_type": "code",
   "execution_count": 1,
   "metadata": {
    "collapsed": true
   },
   "outputs": [],
   "source": [
    "from __future__ import print_function, division\n",
    "import json\n",
    "import numpy as np\n",
    "import pandas as pd\n",
    "import matplotlib.pyplot as plt\n",
    "# import seaborn as sns\n",
    "import scipy.stats as stats\n",
    "import nipy.algorithms.statistics.empirical_pvalue as pv\n",
    "\n",
    "import congress_tools as cong\n",
    "\n",
    "%matplotlib inline\n",
    "\n",
    "%load_ext autoreload\n",
    "%autoreload 2"
   ]
  },
  {
   "cell_type": "code",
   "execution_count": 186,
   "metadata": {
    "collapsed": true
   },
   "outputs": [],
   "source": [
    "year = 2014\n",
    "\n",
    "if year == 2014:\n",
    "    congNum = 114\n",
    "elif year == 2012:\n",
    "    congNum = 113\n",
    "\n",
    "# reapportion seats to expected values\n",
    "methodReapportion = 'state'\n",
    "# methodReapportion = 'country'\n",
    "\n",
    "# this file was saved by nExpectedReps_compactSummary.ipynb\n",
    "filename = '../data/df_stateSummary_%d_%sReapportion.pkl' % (year, methodReapportion)\n",
    "data = pd.read_pickle(filename)"
   ]
  },
  {
   "cell_type": "markdown",
   "metadata": {},
   "source": [
    "# Summary: State-level reapportionment"
   ]
  },
  {
   "cell_type": "code",
   "execution_count": 187,
   "metadata": {
    "collapsed": false
   },
   "outputs": [
    {
     "name": "stdout",
     "output_type": "stream",
     "text": [
      "Expected seats 2014:\n",
      "Democratic: 201\n",
      "Republican: 234\n"
     ]
    }
   ],
   "source": [
    "print('Expected seats %d:\\nDemocratic: %d\\nRepublican: %d' % (year,data.nDemDistExpect.sum(), data.nRepDistExpect.sum()))"
   ]
  },
  {
   "cell_type": "markdown",
   "metadata": {},
   "source": [
    "# Analysis: Compactness and Redistricting Control"
   ]
  },
  {
   "cell_type": "markdown",
   "metadata": {},
   "source": [
    "## Get average compactness for states with different redistricting control"
   ]
  },
  {
   "cell_type": "code",
   "execution_count": 11,
   "metadata": {
    "collapsed": true
   },
   "outputs": [],
   "source": [
    "data['avg_compact'] = data.compact.apply(np.mean)\n",
    "#using avg compactness\n",
    "# treatment_rep_avgCompact = data[((data.redist_ctrl == 'R'))]['avg_compact']\n",
    "# treatment_dem_avgCompact = data[((data.redist_ctrl == 'D'))]['avg_compact']\n",
    "treatment_oneParty_avgCompact = data[data['redist_ctrl'].isin(['D','R'])]['avg_compact']\n",
    "treatment_split_avgCompact = data[data['redist_ctrl'].isin(['Split','Nonpartisan'])]['avg_compact']"
   ]
  },
  {
   "cell_type": "code",
   "execution_count": 155,
   "metadata": {
    "collapsed": false
   },
   "outputs": [
    {
     "name": "stdout",
     "output_type": "stream",
     "text": [
      "Before transformation\n",
      "(6.5698815209004442, 0.037442803122508549)\n",
      "(13.337726037258497, 0.00126984171691505)\n",
      "After log transformation\n",
      "(0.45101913497692925, 0.79810942450865019)\n",
      "(3.1012070938129308, 0.21211991086862494)\n"
     ]
    }
   ],
   "source": [
    "# data is not normally distributed, need to transform\n",
    "print(\"Before transformation\")\n",
    "print(stats.normaltest(treatment_oneParty_avgCompact))\n",
    "print(stats.normaltest(treatment_split_avgCompact))\n",
    "print(\"After log transformation\")\n",
    "print(stats.normaltest(treatment_oneParty_avgCompact.apply(np.log)))\n",
    "print(stats.normaltest(treatment_split_avgCompact.apply(np.log)))"
   ]
  },
  {
   "cell_type": "code",
   "execution_count": 15,
   "metadata": {
    "collapsed": false
   },
   "outputs": [
    {
     "data": {
      "text/plain": [
       "(-3.1420995538277077, 0.0031574071144885906)"
      ]
     },
     "execution_count": 15,
     "metadata": {},
     "output_type": "execute_result"
    }
   ],
   "source": [
    "# T test \n",
    "stats.ttest_ind(treatment_oneParty_avgCompact.apply(np.log), \n",
    "                              treatment_split_avgCompact.apply(np.log), equal_var=False)"
   ]
  },
  {
   "cell_type": "markdown",
   "metadata": {},
   "source": [
    "## Average district compactness in states with single-party control of redistricting are significantly less compact than those from states with split or nonpartisan controlm"
   ]
  },
  {
   "cell_type": "code",
   "execution_count": 158,
   "metadata": {
    "collapsed": false
   },
   "outputs": [
    {
     "name": "stdout",
     "output_type": "stream",
     "text": [
      "Compactness\n",
      "Single-party redistricting control: 0.2210\n",
      "Split-party redistricting control: 0.2838\n"
     ]
    }
   ],
   "source": [
    "print('Compactness:')\n",
    "print('Single-party redistricting control: %.4f' % treatment_oneParty_avgCompact.mean())\n",
    "print('Split-party redistricting control: %.4f' % treatment_split_avgCompact.mean())"
   ]
  },
  {
   "cell_type": "code",
   "execution_count": 188,
   "metadata": {
    "collapsed": false
   },
   "outputs": [
    {
     "data": {
      "image/png": "[encoded data removed]",
      "text/plain": [
       "<matplotlib.figure.Figure at 0x1302513d0>"
      ]
     },
     "metadata": {},
     "output_type": "display_data"
    }
   ],
   "source": [
    "f, (ax1, ax2) = plt.subplots(2, 1, sharex=True, sharey=True, figsize=(12,8))\n",
    "\n",
    "ax1.hist(list(treatment_oneParty_avgCompact), bins=8, color='grey')\n",
    "ax2.hist(list(treatment_split_avgCompact), bins=8, color = 'grey')\n",
    "\n",
    "ax2.set_ylim(0, 8)\n",
    "ax2.set_xlim(0.1, 0.52)\n",
    "\n",
    "ax1.set_ylabel(\"Number of States\", fontsize=14)\n",
    "ax2.set_ylabel(\"Number of States\", fontsize=14)\n",
    "\n",
    "ax2.set_xlabel(\"Average State Compactness\", fontsize=16)\n",
    "\n",
    "ax1.set_title('One Party Redistricting Control', fontweight='bold', fontsize=16)\n",
    "ax2.set_title('Split Redistricting Control', fontweight='bold', fontsize=16)\n",
    "\n",
    "# vertical lines at mean\n",
    "ax1.axvline(treatment_oneParty_avgCompact.mean(), color='black', linestyle='dashed', linewidth=3)\n",
    "ax2.axvline(treatment_split_avgCompact.mean(), color='black', linestyle='dashed', linewidth=3)\n",
    "\n",
    "ax1.grid(False)\n",
    "ax2.grid(False)\n",
    "\n",
    "# plt.savefig(\"compact_redistControl.png\",bbox_inches='tight', dpi = 1200)"
   ]
  },
  {
   "cell_type": "markdown",
   "metadata": {},
   "source": [
    "# Analysis: Compactness and Gerrymandering Score"
   ]
  },
  {
   "cell_type": "code",
   "execution_count": 195,
   "metadata": {
    "collapsed": true
   },
   "outputs": [],
   "source": [
    "methodReapportion = 'state'\n",
    "# methodReapportion = 'country'\n",
    "\n",
    "year = 2012\n",
    "# year = 2014\n",
    "\n",
    "if year == 2014:\n",
    "    congNum = 114\n",
    "elif year == 2012:\n",
    "    congNum = 113\n",
    "\n",
    "# load district data\n",
    "filename = '../data/df_distSummary_%d_%sReapportion.pkl' % (year, methodReapportion)\n",
    "dfdist = pd.read_pickle(filename)"
   ]
  },
  {
   "cell_type": "markdown",
   "metadata": {},
   "source": [
    "## Calculate a gerrymandering score using the number of packed and cracked districts and other criteria"
   ]
  },
  {
   "cell_type": "code",
   "execution_count": 196,
   "metadata": {
    "collapsed": false
   },
   "outputs": [
    {
     "name": "stdout",
     "output_type": "stream",
     "text": [
      "seat difference: 26 (positive indicates number of R seats that should be D)\n",
      "[u'MI', u'AL', u'TX', u'SC', u'PA', u'OH', u'VA', u'NC', u'IN', u'FL']\n"
     ]
    }
   ],
   "source": [
    "# minimum number of districts a state needs to be included\n",
    "minDist = 4\n",
    "\n",
    "# the limits on vote proportion that one party needs in a given district to be packed\n",
    "packMin = 75\n",
    "packMax = 99\n",
    "\n",
    "# the limits on vote proportion that one party needs to be cracked\n",
    "crackMin = 35\n",
    "crackMax = 49\n",
    "\n",
    "scoreLim = 2\n",
    "delta_R_lim = 1\n",
    "\n",
    "printDebug = False\n",
    "\n",
    "dfdist, state_gerry = cong.gerry_score(dfdist,minDist=minDist,\n",
    "                                       packMin=packMin,packMax=packMax,\n",
    "                                       crackMin=crackMin,crackMax=crackMax,\n",
    "                                       scoreLim=scoreLim,delta_R_lim=delta_R_lim,printDebug=printDebug)"
   ]
  },
  {
   "cell_type": "code",
   "execution_count": 197,
   "metadata": {
    "collapsed": true
   },
   "outputs": [],
   "source": [
    "# Separate districts from gerrymandered and non-gerrymandered states\n",
    "dfdist_gm = dfdist[dfdist['state'].isin(state_gerry)]\n",
    "dfdist_nogm = dfdist[~dfdist['state'].isin(state_gerry)]"
   ]
  },
  {
   "cell_type": "code",
   "execution_count": 198,
   "metadata": {
    "collapsed": false
   },
   "outputs": [
    {
     "name": "stdout",
     "output_type": "stream",
     "text": [
      "Before transformation\n",
      "(15.549719198286761, 0.00042016645694516153)\n",
      "(20.627299788595963, 3.3177126036509291e-05)\n",
      "After sqrt transformation\n",
      "(4.6019953640994702, 0.10015886715480074)\n",
      "(0.3160547909537525, 0.85382639066693344)\n"
     ]
    }
   ],
   "source": [
    "# data is not normally distributed, need to transform\n",
    "print(\"Before transformation\")\n",
    "print(stats.normaltest(dfdist_gm['compact']))\n",
    "print(stats.normaltest(dfdist_nogm['compact']))\n",
    "print(\"After sqrt transformation\")\n",
    "print(stats.normaltest(dfdist_gm['compact']**.5))\n",
    "print(stats.normaltest(dfdist_nogm['compact']**.5))"
   ]
  },
  {
   "cell_type": "code",
   "execution_count": 199,
   "metadata": {
    "collapsed": false
   },
   "outputs": [
    {
     "data": {
      "text/plain": [
       "(-3.1673863017585977, 0.0017017155350526607)"
      ]
     },
     "execution_count": 199,
     "metadata": {},
     "output_type": "execute_result"
    }
   ],
   "source": [
    "# T test\n",
    "stats.ttest_ind(dfdist_gm['compact']**.5, \n",
    "                dfdist_nogm['compact']**.5, equal_var=False)"
   ]
  },
  {
   "cell_type": "markdown",
   "metadata": {},
   "source": [
    "## Districts from gerrymandered states are significantly less compact than those from non-gerrymandered states"
   ]
  },
  {
   "cell_type": "code",
   "execution_count": 306,
   "metadata": {
    "collapsed": false
   },
   "outputs": [
    {
     "name": "stdout",
     "output_type": "stream",
     "text": [
      "Compactness by Gerrymandering\n",
      "Gerrymandered: 0.2205\n",
      "Non-gerrymandered: 0.2537\n"
     ]
    }
   ],
   "source": [
    "print('Compactness by Gerrymandering')\n",
    "print('Gerrymandered: %.4f' % dfdist_gm['compact'].mean())\n",
    "print('Non-gerrymandered: %.4f' % dfdist_nogm['compact'].mean())"
   ]
  },
  {
   "cell_type": "code",
   "execution_count": 203,
   "metadata": {
    "collapsed": false
   },
   "outputs": [
    {
     "data": {
      "text/plain": [
       "<matplotlib.text.Text at 0x131c486d0>"
      ]
     },
     "execution_count": 203,
     "metadata": {},
     "output_type": "execute_result"
    },
    {
     "data": {
      "image/png": "[encoded data removed]",
      "text/plain": [
       "<matplotlib.figure.Figure at 0x131a7f850>"
      ]
     },
     "metadata": {},
     "output_type": "display_data"
    }
   ],
   "source": [
    "f, (ax1, ax2) = plt.subplots(2, 1, sharex=True, sharey=True, figsize=(8, 6), dpi=160, facecolor='w', edgecolor='k')\n",
    "\n",
    "ymax = 80\n",
    "xmin = 0\n",
    "xmax = 0.8\n",
    "\n",
    "dfdist_gm['compact'].hist(ax=ax1, alpha=0.8, color='gray')\n",
    "dfdist_nogm['compact'].hist(ax=ax2, alpha=0.8, color='gray')\n",
    "# vertical mean lines\n",
    "ax1.axvline(dfdist_gm['compact'].mean(), color='black', linestyle='dashed', linewidth=3)\n",
    "ax2.axvline(dfdist_nogm['compact'].mean(), color='black', linestyle='dashed', linewidth=3)\n",
    "\n",
    "# clean up plot\n",
    "ax1.set_ylim(top=ymax)\n",
    "ax2.set_ylim(top=ymax)\n",
    "ax1.set_xlim(left=xmin, right=xmax)\n",
    "\n",
    "ax1.set_ylabel('# of Districts', fontsize=14)\n",
    "ax2.set_ylabel('# of Districts', fontsize=14)\n",
    "\n",
    "ax2.set_xlabel('Compactness', fontsize=16, fontweight='normal')\n",
    "\n",
    "ax1.grid(False)\n",
    "ax2.grid(False)\n",
    "\n",
    "weight = 'bold'\n",
    "ax1.set_title('Gerrymandered States', fontweight=weight, fontsize=16)\n",
    "ax2.set_title('Non-Gerrymandered States', fontweight=weight, fontsize=16)\n",
    "\n",
    "# plt.savefig(\"gm_compact_%d.png\" % (year),bbox_inches='tight', dpi = 1200)"
   ]
  },
  {
   "cell_type": "markdown",
   "metadata": {},
   "source": [
    "# Analysis: Compactness and District PVI"
   ]
  },
  {
   "cell_type": "code",
   "execution_count": 210,
   "metadata": {
    "collapsed": true
   },
   "outputs": [],
   "source": [
    "methodReapportion = 'state'\n",
    "# methodReapportion = 'country'\n",
    "\n",
    "year = 2012\n",
    "# year = 2014\n",
    "\n",
    "if year == 2014:\n",
    "    congNum = 114\n",
    "elif year == 2012:\n",
    "    congNum = 113\n",
    "\n",
    "# load district data\n",
    "filename = '../data/df_distSummary_%d_%sReapportion.pkl' % (year, methodReapportion)\n",
    "dfdist = pd.read_pickle(filename)"
   ]
  },
  {
   "cell_type": "code",
   "execution_count": 293,
   "metadata": {
    "collapsed": false
   },
   "outputs": [],
   "source": [
    "# convert PVI to integer\n",
    "dfdist['pvi_dist'] = dfdist['pvi_dist'].astype(np.int)"
   ]
  },
  {
   "cell_type": "code",
   "execution_count": 296,
   "metadata": {
    "collapsed": false
   },
   "outputs": [],
   "source": [
    "# the states below have only one congressional district\n",
    "oneCD = ['AK', 'DE', 'MT', 'ND', 'SD', 'VT', 'WY']\n",
    "# create data frame without these states\n",
    "df3states = dfdist[~dfdist.state.isin(oneCD)]"
   ]
  },
  {
   "cell_type": "code",
   "execution_count": 297,
   "metadata": {
    "collapsed": false
   },
   "outputs": [],
   "source": [
    "demS = df3states[df3states['pvi_dist'] > 5]\n",
    "repS = df3states[(df3states['pvi_dist'] < -5)]\n",
    "swS = df3states[(df3states['pvi_dist'] <=5) & (df3states['pvi_dist'] >= - 5)]"
   ]
  },
  {
   "cell_type": "code",
   "execution_count": 307,
   "metadata": {
    "collapsed": false
   },
   "outputs": [
    {
     "name": "stdout",
     "output_type": "stream",
     "text": [
      "Before transformation\n",
      "(15.768551362299874, 0.00037661930523347274)\n",
      "(14.889970113859503, 0.00058436483254290135)\n",
      "(10.638993446575057, 0.0048952167539897638)\n",
      "After sqrt transformation\n",
      "(1.103187636764509, 0.57603098957830978)\n",
      "(5.4867572793241468, 0.064352555085359517)\n",
      "(4.4849158592101359, 0.10619715818647513)\n"
     ]
    }
   ],
   "source": [
    "# data is not normally distributed, need to transform\n",
    "print(\"Before transformation\")\n",
    "print(stats.normaltest(demS['compact']))\n",
    "print(stats.normaltest(repS['compact']))\n",
    "print(stats.normaltest(swS['compact']))\n",
    "print(\"After sqrt transformation\")\n",
    "print(stats.normaltest(demS['compact']**0.5))\n",
    "print(stats.normaltest(repS['compact']**0.5))\n",
    "print(stats.normaltest(swS['compact']**0.5))"
   ]
  },
  {
   "cell_type": "code",
   "execution_count": 302,
   "metadata": {
    "collapsed": false
   },
   "outputs": [
    {
     "name": "stdout",
     "output_type": "stream",
     "text": [
      "[9.142062238425174, 0.00012962381814904329]\n"
     ]
    }
   ],
   "source": [
    "f_val, p_val = stats.f_oneway(demS['compact']**0.5, swS['compact']**0.5, repS['compact']**0.5) \n",
    "print([f_val, p_val])"
   ]
  },
  {
   "cell_type": "code",
   "execution_count": 303,
   "metadata": {
    "collapsed": false
   },
   "outputs": [
    {
     "name": "stdout",
     "output_type": "stream",
     "text": [
      "(-2.3430012418310611, 0.020152981677101986)\n",
      "(-4.0422038547529793, 7.2152486190037811e-05)\n",
      "(-2.3424164958765012, 0.019862974682074899)\n"
     ]
    }
   ],
   "source": [
    "print(stats.ttest_ind(repS['compact']**0.5,swS['compact']**0.5, equal_var=False))\n",
    "print(stats.ttest_ind(demS['compact']**0.5,swS['compact']**0.5,equal_var=False))\n",
    "print(stats.ttest_ind(demS['compact']**0.5,repS['compact']**0.5,equal_var=False))"
   ]
  },
  {
   "cell_type": "code",
   "execution_count": null,
   "metadata": {
    "collapsed": true
   },
   "outputs": [],
   "source": [
    "pv.fdr([0.020152981677101476,7.215*10**(-5), 0.019862974682074624])"
   ]
  },
  {
   "cell_type": "code",
   "execution_count": 308,
   "metadata": {
    "collapsed": false
   },
   "outputs": [
    {
     "name": "stdout",
     "output_type": "stream",
     "text": [
      "Compactness by PVI\n",
      "Democratic: 0.2150\n",
      "Republican: 0.2379\n",
      "Swing: 0.2736\n"
     ]
    }
   ],
   "source": [
    "print('Compactness by PVI')\n",
    "print('Democratic: %.4f' % demS['compact'].mean())\n",
    "print('Republican: %.4f' % repS['compact'].mean())\n",
    "print('Swing: %.4f' % swS['compact'].mean())"
   ]
  },
  {
   "cell_type": "markdown",
   "metadata": {},
   "source": [
    "### The average compactness of three groups is not the same. Democratic districts have lower compactness than Republican districts on average. Swing districts have the largest average compactness."
   ]
  },
  {
   "cell_type": "code",
   "execution_count": 304,
   "metadata": {
    "collapsed": false
   },
   "outputs": [
    {
     "data": {
      "text/plain": [
       "(0.0, 35)"
      ]
     },
     "execution_count": 304,
     "metadata": {},
     "output_type": "execute_result"
    },
    {
     "data": {
      "image/png": "[encoded data removed]",
      "text/plain": [
       "<matplotlib.figure.Figure at 0x10e678550>"
      ]
     },
     "metadata": {},
     "output_type": "display_data"
    }
   ],
   "source": [
    "f, (ax1,ax2,ax3) = plt.subplots(3, 1, sharex=True, sharey=True)\n",
    "f.subplots_adjust(wspace=0.08,hspace=0.3)\n",
    "f.set_size_inches(10,10)\n",
    "# plot histograms\n",
    "demS['compact'].hist(ax=ax1,color='#3498db', alpha = 0.7, bins=15)\n",
    "repS['compact'].hist(ax=ax2,color='#e74c3c', alpha = 0.7, bins=15)\n",
    "swS['compact'].hist(ax=ax3,color='grey', alpha = 0.7, bins=15)\n",
    "\n",
    "ax1.grid(False)\n",
    "ax2.grid(False)\n",
    "ax3.grid(False)\n",
    "\n",
    "# set labels\n",
    "ax1.set_title('Democratic Districts based on PVI score', fontsize=20,fontweight='bold')\n",
    "ax2.set_title('Republican Districts based on PVI score', fontsize=20,fontweight='bold')\n",
    "ax3.set_title('Swing Districts based on PVI score', fontsize=20, fontweight='bold')\n",
    "\n",
    "ax3.set_xlabel('District Compactness', fontsize=16)\n",
    "\n",
    "ax1.axvline(demS['compact'].mean(), color='black', linestyle='dashed', linewidth=3)\n",
    "ax2.axvline(repS['compact'].mean(), color='black', linestyle='dashed', linewidth=3)\n",
    "ax3.axvline(swS['compact'].mean(), color='black', linestyle='dashed', linewidth=3)\n",
    "\n",
    "ylim=35\n",
    "ax1.set_ylim(top=ylim)\n",
    "ax2.set_ylim(top=ylim)\n",
    "ax3.set_ylim(top=ylim)\n",
    "# plt.savefig(\"pvi_comp_hist.png\",bbox_inches='tight', dpi = 1200 )"
   ]
  },
  {
   "cell_type": "markdown",
   "metadata": {},
   "source": [
    "# DIME and Gerrymandering Score"
   ]
  },
  {
   "cell_type": "code",
   "execution_count": 310,
   "metadata": {
    "collapsed": true
   },
   "outputs": [],
   "source": [
    "methodReapportion = 'state'\n",
    "# methodReapportion = 'country'\n",
    "\n",
    "year = 2012\n",
    "\n",
    "if year == 2014:\n",
    "    congNum = 114\n",
    "elif year == 2012:\n",
    "    congNum = 113\n",
    "\n",
    "filename = '../data/df_distSummary_DIME_%d_%sReapportion.pkl' % (year, methodReapportion)\n",
    "dfjoin = pd.read_pickle(filename)"
   ]
  },
  {
   "cell_type": "code",
   "execution_count": 311,
   "metadata": {
    "collapsed": true
   },
   "outputs": [],
   "source": [
    "# convert PVI to integer\n",
    "# dfjoin['pvi_dist'] = dfjoin['pvi_dist'].astype(np.int)\n",
    "\n",
    "cfscore = 'cfscores.dyn'"
   ]
  },
  {
   "cell_type": "code",
   "execution_count": 334,
   "metadata": {
    "collapsed": true
   },
   "outputs": [],
   "source": [
    "# for cfscore\n",
    "cf_dfdist_gm = dfjoin[dfjoin['state'].isin(state_gerry)].dropna()\n",
    "cf_dfdist_nogm = dfjoin[~dfjoin['state'].isin(state_gerry)].dropna()"
   ]
  },
  {
   "cell_type": "code",
   "execution_count": 333,
   "metadata": {
    "collapsed": false
   },
   "outputs": [
    {
     "name": "stdout",
     "output_type": "stream",
     "text": [
      "Before transformation\n",
      "(22.202391917959648, 1.5094260903882928e-05)\n",
      "(0.60636035809920197, 0.73846602827566377)\n",
      "After log transformation\n",
      "(nan, nan)\n",
      "(nan, nan)\n"
     ]
    }
   ],
   "source": [
    "# data is not normally distributed, need to transform\n",
    "print(\"Before transformation\")\n",
    "print(stats.normaltest(cf_dfdist_gm[cfscore]))\n",
    "print(stats.normaltest(cf_dfdist_nogm[cfscore]))\n",
    "# print(\"After log transformation\")\n",
    "# print(stats.normaltest(cf_dfdist_gm[cfscore].apply(np.log)))\n",
    "# print(stats.normaltest(cf_dfdist_nogm[cfscore].apply(np.log)))"
   ]
  },
  {
   "cell_type": "code",
   "execution_count": 324,
   "metadata": {
    "collapsed": false
   },
   "outputs": [
    {
     "data": {
      "text/plain": [
       "(6.8510051694407768, 2.9319657256186254e-11)"
      ]
     },
     "execution_count": 324,
     "metadata": {},
     "output_type": "execute_result"
    }
   ],
   "source": [
    "# T test\n",
    "stats.ttest_ind(cf_dfdist_gm[cfscore].dropna(), \n",
    "                cf_dfdist_nogm[cfscore].dropna(), equal_var=False)"
   ]
  },
  {
   "cell_type": "code",
   "execution_count": 395,
   "metadata": {
    "collapsed": false
   },
   "outputs": [],
   "source": [
    "dfjoin['gm'] = dfjoin['state'].map(lambda x: 1 if x in state_gerry else -1)"
   ]
  },
  {
   "cell_type": "code",
   "execution_count": 356,
   "metadata": {
    "collapsed": true
   },
   "outputs": [],
   "source": [
    "# separate parties\n",
    "liberalIdx = (dfjoin[cfscore] < 0)\n",
    "conservIdx = (dfjoin[cfscore] > 0)\n",
    "\n",
    "# for cfscore\n",
    "liberalGM = dfjoin[dfjoin['state'].isin(state_gerry) & liberalIdx]\n",
    "liberalNoGM = dfjoin[~dfjoin['state'].isin(state_gerry) & liberalIdx]\n",
    "\n",
    "conservGM = dfjoin[dfjoin['state'].isin(state_gerry) & conservIdx]\n",
    "conservNoGM = dfjoin[~dfjoin['state'].isin(state_gerry) & conservIdx]"
   ]
  },
  {
   "cell_type": "code",
   "execution_count": 357,
   "metadata": {
    "collapsed": false
   },
   "outputs": [
    {
     "name": "stdout",
     "output_type": "stream",
     "text": [
      "Before transformation\n",
      "(7.6984069784978013, 0.021296692729268429)\n",
      "(4.6627495408828068, 0.09716207967441802)\n",
      "(18.273953970088016, 0.00010761215143681059)\n",
      "(6.3455715761256561, 0.041886747617445409)\n",
      "After Box-Cox transformation\n",
      "(0.010634772047826944, 0.99469672624860339)\n",
      "(5.1930586117243358, 0.074531806944095003)\n",
      "(0.57767784515101261, 0.74913286407706337)\n",
      "(2.367429849738977, 0.30613933887579753)\n"
     ]
    }
   ],
   "source": [
    "print(\"Before transformation\")\n",
    "print(stats.normaltest(liberalGM[cfscore].dropna()))\n",
    "print(stats.normaltest(liberalNoGM[cfscore].dropna()))\n",
    "print(stats.normaltest(conservGM[cfscore].dropna()))\n",
    "print(stats.normaltest(conservNoGM[cfscore].dropna()))\n",
    "\n",
    "print(\"After Box-Cox transformation\")\n",
    "print(stats.normaltest(stats.boxcox(liberalGM[cfscore].dropna().abs())[0]))\n",
    "print(stats.normaltest(stats.boxcox(liberalNoGM[cfscore].dropna().abs())[0]))\n",
    "print(stats.normaltest(stats.boxcox(conservGM[cfscore].dropna().abs())[0]))\n",
    "print(stats.normaltest(stats.boxcox(conservNoGM[cfscore].dropna().abs())[0]))"
   ]
  },
  {
   "cell_type": "code",
   "execution_count": 389,
   "metadata": {
    "collapsed": false
   },
   "outputs": [
    {
     "name": "stdout",
     "output_type": "stream",
     "text": [
      "[19.244893723137437, 9.9907072492967353e-12]\n"
     ]
    }
   ],
   "source": [
    "f_val, p_val = stats.f_oneway(stats.boxcox(liberalGM[cfscore].dropna().abs())[0], stats.boxcox(liberalNoGM[cfscore].dropna().abs())[0], stats.boxcox(conservGM[cfscore].dropna().abs())[0], stats.boxcox(conservNoGM[cfscore].dropna().abs())[0])\n",
    "print([f_val, p_val])"
   ]
  },
  {
   "cell_type": "code",
   "execution_count": 392,
   "metadata": {
    "collapsed": false
   },
   "outputs": [
    {
     "name": "stdout",
     "output_type": "stream",
     "text": [
      "[34.249265759004913, 2.0087994682178358e-08]\n"
     ]
    },
    {
     "data": {
      "text/plain": [
       "(-5.3067209726520401, 1.6275804724405473e-06)"
      ]
     },
     "execution_count": 392,
     "metadata": {},
     "output_type": "execute_result"
    }
   ],
   "source": [
    "# this is the stat we report\n",
    "\n",
    "# f_val, p_val = stats.f_oneway(stats.boxcox(liberalGM[cfscore].dropna().abs())[0], stats.boxcox(liberalNoGM[cfscore].dropna().abs())[0])\n",
    "# print([f_val, p_val])\n",
    "\n",
    "stats.ttest_ind(stats.boxcox(liberalGM[cfscore].dropna().abs())[0], stats.boxcox(liberalNoGM[cfscore].dropna().abs())[0], equal_var=False)"
   ]
  },
  {
   "cell_type": "code",
   "execution_count": 393,
   "metadata": {
    "collapsed": false
   },
   "outputs": [
    {
     "name": "stdout",
     "output_type": "stream",
     "text": [
      "[0.0042834887096234817, 0.94787289535594232]\n"
     ]
    },
    {
     "data": {
      "text/plain": [
       "(-0.065834794984177436, 0.94756572803515138)"
      ]
     },
     "execution_count": 393,
     "metadata": {},
     "output_type": "execute_result"
    }
   ],
   "source": [
    "# f_val, p_val = stats.f_oneway(stats.boxcox(conservGM[cfscore].dropna().abs())[0], stats.boxcox(conservNoGM[cfscore].dropna().abs())[0])\n",
    "# print([f_val, p_val])\n",
    "\n",
    "stats.ttest_ind(stats.boxcox(conservGM[cfscore].dropna().abs())[0], stats.boxcox(conservNoGM[cfscore].dropna().abs())[0], equal_var=False)"
   ]
  },
  {
   "cell_type": "code",
   "execution_count": 337,
   "metadata": {
    "collapsed": false
   },
   "outputs": [
    {
     "name": "stdout",
     "output_type": "stream",
     "text": [
      "liberal GM\n",
      "count    44.000000\n",
      "mean     -0.691741\n",
      "std       0.312418\n",
      "min      -1.705644\n",
      "25%      -0.866046\n",
      "50%      -0.630394\n",
      "75%      -0.479092\n",
      "max      -0.188839\n",
      "Name: cfscores.dyn, dtype: float64\n",
      "conserv GM\n",
      "count    113.000000\n",
      "mean       0.907650\n",
      "std        0.234440\n",
      "min        0.040448\n",
      "25%        0.798699\n",
      "50%        0.943509\n",
      "75%        1.056692\n",
      "max        1.342716\n",
      "Name: cfscores.dyn, dtype: float64\n",
      "dem ~GM\n",
      "count    154.000000\n",
      "mean      -0.940219\n",
      "std        0.343131\n",
      "min       -1.637502\n",
      "25%       -1.201054\n",
      "50%       -0.948659\n",
      "75%       -0.730570\n",
      "max       -0.101135\n",
      "Name: cfscores.dyn, dtype: float64\n",
      "conserv ~GM\n",
      "count    123.000000\n",
      "mean       0.914930\n",
      "std        0.251666\n",
      "min        0.083674\n",
      "25%        0.755085\n",
      "50%        0.934663\n",
      "75%        1.113645\n",
      "max        1.421921\n",
      "Name: cfscores.dyn, dtype: float64\n"
     ]
    },
    {
     "data": {
      "image/png": "[encoded data removed]",
      "text/plain": [
       "<matplotlib.figure.Figure at 0x10dacc210>"
      ]
     },
     "metadata": {},
     "output_type": "display_data"
    }
   ],
   "source": [
    "f, (ax1, ax2) = plt.subplots(2, 1, sharex=True, figsize=(8, 6), dpi=160, facecolor='w', edgecolor='k')\n",
    "\n",
    "ymax = 40\n",
    "xmin = -1.75\n",
    "xmax = 1.75\n",
    "\n",
    "# plot separate party cfscore\n",
    "liberalGM.hist(ax=ax1, alpha=0.8, color='#3498db')\n",
    "conservGM.hist(ax=ax1, alpha=0.8, color='#e74c3c')\n",
    "\n",
    "liberalNoGM.hist(ax=ax2, alpha=0.8, color='#3498db')\n",
    "conservNoGM.hist(ax=ax2, alpha=0.8, color='#e74c3c')\n",
    "\n",
    "ax1.axvline(liberalGM.mean(), color='black', linestyle='dashed', linewidth=3)\n",
    "ax1.axvline(conservGM.mean(), color='black', linestyle='dashed', linewidth=3)\n",
    "\n",
    "ax2.axvline(liberalNoGM.mean(), color='black', linestyle='dashed', linewidth=3)\n",
    "ax2.axvline(conservNoGM.mean(), color='black', linestyle='dashed', linewidth=3)\n",
    "\n",
    "# clean up plot\n",
    "ax1.set_ylim(top=ymax)\n",
    "ax2.set_ylim(top=ymax)\n",
    "\n",
    "ax1.set_xlim(left=xmin, right=xmax)\n",
    "# ax2.set_xlim(left=xmin, right=xmax)\n",
    "\n",
    "ax1.set_ylabel('# of Representatives', fontsize=14)\n",
    "ax2.set_ylabel('# of Representatives', fontsize=14)\n",
    "\n",
    "ax2.set_xlabel('CFScore Score', fontsize=16, fontweight='bold')\n",
    "\n",
    "ax1.grid(False)\n",
    "ax2.grid(False)\n",
    "\n",
    "weight = 'normal'\n",
    "ax1.set_title('Gerrymandered States', fontweight=weight, fontsize=16)\n",
    "ax2.set_title('Non-Gerrymandered States', fontweight=weight, fontsize=16)\n",
    "\n",
    "# plt.savefig(\"gm_dime_%d.png\" % (year),bbox_inches='tight', dpi = 1200)\n",
    "\n",
    "print('liberal GM')\n",
    "print(liberalGM.describe())\n",
    "print('conserv GM')\n",
    "print(conservGM.describe())\n",
    "print('dem ~GM')\n",
    "print(liberalNoGM.describe())\n",
    "print('conserv ~GM')\n",
    "print(conservNoGM.describe())"
   ]
  }
 ],
 "metadata": {
  "kernelspec": {
   "display_name": "Python 2",
   "language": "python",
   "name": "python2"
  },
  "language_info": {
   "codemirror_mode": {
    "name": "ipython",
    "version": 2
   },
   "file_extension": ".py",
   "mimetype": "text/x-python",
   "name": "python",
   "nbconvert_exporter": "python",
   "pygments_lexer": "ipython2",
   "version": "2.7.9"
  }
 },
 "nbformat": 4,
 "nbformat_minor": 0
}
