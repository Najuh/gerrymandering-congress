{
 "cells": [
  {
   "cell_type": "markdown",
   "metadata": {},
   "source": [
    "## Made my own csv of the html table from http://www.thegreenpapers.com/G12/HouseVoteByParty.phtml\n",
    "\n",
    "### In the Candidate column (row index 2): * = winner, (I) = incumbent\n",
    "\n",
    "### Resorted in excel by state and then district because some districts were out of order and my code doesn't account for that"
   ]
  },
  {
   "cell_type": "code",
   "execution_count": null,
   "metadata": {
    "collapsed": false
   },
   "outputs": [],
   "source": [
    "# import csv\n",
    "import json\n",
    "# import numpy as np\n",
    "import pandas as pd"
   ]
  },
  {
   "cell_type": "code",
   "execution_count": null,
   "metadata": {
    "collapsed": false
   },
   "outputs": [],
   "source": [
    "#dictionary between FIPS and states\n",
    "with open(\"../data/st2Fips.json\",\"rb\") as f3:\n",
    "    fips = json.load(f3)\n",
    "\n",
    "# read into pandas data frame\n",
    "df = pd.read_csv('../data/113_2012_house_popular_vote.csv', header=0, usecols = [0,1,2,3,4], names = ['state','cd','name','party','numVotes'])\n",
    "\n",
    "df = df[:len(df)-1]\n",
    "\n",
    "nRows = len(df)\n",
    "\n",
    "# remove leading and trailing whitespace\n",
    "df[\"state\"] = df[\"state\"].map(str.strip)\n",
    "df[\"cd\"] = df[\"cd\"].map(str.strip)\n",
    "df[\"name\"] = df[\"name\"].map(str.strip)\n",
    "df[\"party\"] = df[\"party\"].map(str.strip)\n",
    "\n",
    "# set \"At Large\" districts to 00\n",
    "df['cd'][df['cd'] == 'At-Large'] = '00'\n",
    "\n",
    "df['cd'] = df['cd'].str.replace('CD ','')\n",
    "\n",
    "# convert votes to numbers\n",
    "df['numVotes'] = df['numVotes'].str.replace(',','').convert_objects(convert_numeric=True)\n"
   ]
  },
  {
   "cell_type": "code",
   "execution_count": null,
   "metadata": {
    "collapsed": false
   },
   "outputs": [],
   "source": [
    "thisStateAbbrev = ''\n",
    "thisDistrict = ''\n",
    "\n",
    "c113_dict = {}\n",
    "\n",
    "for i in range(len(df)):\n",
    "    if df['state'][i] != thisStateAbbrev:\n",
    "        thisStateAbbrev = df['state'][i]\n",
    "        # found a new state, start a new temporary dictionary\n",
    "        stateDict = {}\n",
    "        stateDict['state'] = thisStateAbbrev\n",
    "        # initialize district party tally\n",
    "        stateDict['demDistr'] = 0\n",
    "        stateDict['repDistr'] = 0\n",
    "        stateDict['othDistr'] = 0\n",
    "        # initialize vote tally\n",
    "        stateDict['demVotes'] = 0\n",
    "        stateDict['repVotes'] = 0\n",
    "        stateDict['othVotes'] = 0\n",
    "    \n",
    "    if thisStateAbbrev in fips:\n",
    "        cd = df['cd'][i]\n",
    "\n",
    "        newDistrict = False\n",
    "        if cd != thisDistrict:\n",
    "            thisDistrict = cd\n",
    "            newDistrict = True\n",
    "            # found a new district, start a new temporary dictionary\n",
    "            cdDict = {}\n",
    "\n",
    "            # initialize vote tally\n",
    "            cdDict['repVotes'] = 0\n",
    "            cdDict['demVotes'] = 0\n",
    "            cdDict['othVotes'] = 0\n",
    "\n",
    "        candidate_name = df['name'][i].decode(\"ascii\", \"ignore\")\n",
    "        if candidate_name[0] == '*':\n",
    "            if 'Democratic' in df['party'][i]:\n",
    "                thisParty = 'D'\n",
    "                stateDict['demDistr'] += 1\n",
    "            elif 'Republican' in df['party'][i]:\n",
    "                thisParty = 'R'\n",
    "                stateDict['repDistr'] += 1\n",
    "            else:\n",
    "                thisParty = 'O'\n",
    "                stateDict['othDistr'] += 1\n",
    "            # found the winner for this district\n",
    "            # if candidate_name[-3:] == '(I)':\n",
    "            #     cdDict['incumbent'] = True\n",
    "            # else:\n",
    "            #     cdDict['incumbent'] = False\n",
    "            cdDict['name'] = candidate_name.replace('*','').replace(' (I)','')\n",
    "            cdDict['party'] = thisParty\n",
    "\n",
    "        if newDistrict or cd == thisDistrict:\n",
    "            # tally dem, rep, and other votes\n",
    "            if pd.isnull(df['numVotes'][i]) == False:\n",
    "                nVotes = df['numVotes'][i]\n",
    "                if 'Democratic' in df['party'][i]:\n",
    "                    partyV = 'demVotes'\n",
    "                elif 'Republican' in df['party'][i]:\n",
    "                    partyV = 'repVotes'\n",
    "                else:\n",
    "                    partyV = 'othVotes'\n",
    "\n",
    "                cdDict[partyV] += nVotes\n",
    "                stateDict[partyV] += nVotes\n",
    "            \n",
    "            if ((i+1) < len(df) and thisDistrict != df['cd'][i+1]) or i+1 == len(df):\n",
    "                stateDict[cd] = cdDict\n",
    "        \n",
    "        if ((i+1) < len(df) and thisStateAbbrev != df['state'][i+1]) or i+1 == len(df):\n",
    "            c113_dict[fips[thisStateAbbrev]] = stateDict\n"
   ]
  },
  {
   "cell_type": "code",
   "execution_count": null,
   "metadata": {
    "collapsed": false
   },
   "outputs": [],
   "source": [
    "with open('../data/113_2012_house_popular_vote.json', 'wb') as f:\n",
    "    f.write(json.dumps(c113_dict))"
   ]
  }
 ],
 "metadata": {
  "kernelspec": {
   "display_name": "Python 2",
   "language": "python",
   "name": "python2"
  },
  "language_info": {
   "codemirror_mode": {
    "name": "ipython",
    "version": 2
   },
   "file_extension": ".py",
   "mimetype": "text/x-python",
   "name": "python",
   "nbconvert_exporter": "python",
   "pygments_lexer": "ipython2",
   "version": "2.7.9"
  }
 },
 "nbformat": 4,
 "nbformat_minor": 0
}
