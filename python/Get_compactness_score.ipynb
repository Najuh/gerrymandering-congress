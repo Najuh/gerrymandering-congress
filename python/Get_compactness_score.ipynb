{
 "cells": [
  {
   "cell_type": "markdown",
   "metadata": {},
   "source": [
    "#Notebook to process shape files and get compactness score for each district\n",
    "Author: Tatsiana Maskalevich"
   ]
  },
  {
   "cell_type": "code",
   "execution_count": null,
   "metadata": {
    "collapsed": false
   },
   "outputs": [],
   "source": [
    "import matplotlib.pyplot as plt\n",
    "import pysal as ps\n",
    "import numpy as np\n",
    "import pandas as pd\n",
    "import math\n",
    "import json"
   ]
  },
  {
   "cell_type": "code",
   "execution_count": null,
   "metadata": {
    "collapsed": false
   },
   "outputs": [],
   "source": [
    "def compute_compactness(input_file_path, output_json_filepath, output_csv_file_path):\n",
    "    '''\n",
    "        Method to compute compactness and write output to disk in json and csv format\n",
    "        input:\n",
    "        input_file_path - path to shp file\n",
    "        output_json_filepath - path to store json file with GEOID to compactness mapping\n",
    "        output_csv_file_path - path to store csv file with info from Tiger files (dbf) plus compactness\n",
    "        \n",
    "    '''\n",
    "    # open shape file\n",
    "    shp = ps.open(input_file_path)\n",
    "    area = []\n",
    "    perimeter = []\n",
    "    # get polygon from a shape file and \n",
    "    for poly in shp:\n",
    "        area.append(poly.area)\n",
    "        perimeter.append(poly.perimeter)\n",
    "\n",
    "    #read dbf file \n",
    "    dbf = ps.open(input_file_path.replace('.shp', '.dbf'))\n",
    "    d = dict([(col, np.array(dbf.by_col(col))) for col in dbf.header])\n",
    "    df = pd.DataFrame(d)\n",
    "    # add area, perimeter, and compactness to the main DF\n",
    "    df['AREA'] = area\n",
    "    df['PERIMETER'] = perimeter\n",
    "    df['COMPACTNESS'] = [np.round(a*math.pi*4/b**2,5) for a,b in zip(area,perimeter)]  \n",
    "    #write compactness by geoid into json  and csv formats \n",
    "\n",
    "    #to json\n",
    "    compact_dict = dict(zip(df['GEOID'], df['COMPACTNESS']))\n",
    "    \n",
    "    with open(output_json_filepath, 'wb') as f:\n",
    "        print \"Writing \" + output_json_filepath + \" to disk\"\n",
    "        f.write(json.dumps(compact_dict))\n",
    "    #to csv\n",
    "    print \"Writing \" + output_csv_file_path + \" to disk\"\n",
    "    df.to_csv(output_csv_file_path, sep=',')\n"
   ]
  },
  {
   "cell_type": "code",
   "execution_count": null,
   "metadata": {
    "collapsed": false
   },
   "outputs": [],
   "source": [
    "# define location of the shape file\n",
    "file2013 = '../data/shapefiles/tl_rd13_us_cd113/tl_rd13_us_cd113.shp'\n",
    "\n",
    "output_filepath = '../data/'\n",
    "\n",
    "compute_compactness(file2013, output_filepath+\"compactness113_byGEO.json\", output_filepath+\"cd113_data_complete.csv\")"
   ]
  }
 ],
 "metadata": {
  "kernelspec": {
   "display_name": "Python 2",
   "language": "python",
   "name": "python2"
  },
  "language_info": {
   "codemirror_mode": {
    "name": "ipython",
    "version": 2
   },
   "file_extension": ".py",
   "mimetype": "text/x-python",
   "name": "python",
   "nbconvert_exporter": "python",
   "pygments_lexer": "ipython2",
   "version": "2.7.9"
  }
 },
 "nbformat": 4,
 "nbformat_minor": 0
}
