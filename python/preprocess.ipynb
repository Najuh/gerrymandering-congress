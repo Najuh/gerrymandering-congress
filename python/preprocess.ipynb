{
 "cells": [
  {
   "cell_type": "markdown",
   "metadata": {},
   "source": [
    "The purpose of this notebook is to summarize the data at the district level and state level.\n",
    "\n",
    "It uses congress_tools.py to do some of this.\n",
    "\n",
    "1. Calculate the expected number of representatives based on popular vote (in congress_tools.py: reapportionSeats_state).\n",
    "\n",
    "2. Calculate the difference between 1 and the actual numbers (delta seats)\n",
    "\n",
    "3. Pull in other district measures such as compactness (can later summarize state using, e.g., mean compactness)\n",
    "\n",
    "4. Summarize state-level data\n",
    "\n",
    "5. Save district and state data into pkl files for later access.\n",
    "\n",
    "Can, e.g., correlate 2 and 3 (e.g., in plot_state_expected_reps_2013.ipynb)\n",
    "\n",
    "Reads data such as:\n",
    "\n",
    "- the popular vote dictionary 113_2012_house_popular_vote.json (created by save_113_2012_house_popular_vote.ipynb)\n",
    "- the state redistricting summary redistricting_2010.json (created by get_redistricting_authorities.ipynb)\n",
    "- compactness scores per district in compactness113_byGEO.json (created by Get_compactness_score_113.ipynb)"
   ]
  },
  {
   "cell_type": "code",
   "execution_count": 1,
   "metadata": {
    "collapsed": false
   },
   "outputs": [],
   "source": [
    "from __future__ import print_function, division\n",
    "import json\n",
    "import numpy as np\n",
    "import pandas as pd\n",
    "import matplotlib.pyplot as plt\n",
    "\n",
    "import congress_tools as cong\n",
    "\n",
    "%matplotlib inline"
   ]
  },
  {
   "cell_type": "code",
   "execution_count": 2,
   "metadata": {
    "collapsed": false
   },
   "outputs": [],
   "source": [
    "# Read the data we need for creating a dataframe\n",
    "#\n",
    "# Run for both 2012 and 2014\n",
    "\n",
    "year = 2012\n",
    "# year = 2014\n",
    "\n",
    "if year == 2014:\n",
    "    congNum = 114\n",
    "elif year == 2012:\n",
    "    congNum = 113\n",
    "\n",
    "# reapportion seats to expected values\n",
    "methodReapportion = 'state'\n",
    "# methodReapportion = 'country'\n",
    "\n",
    "# Read the popular vote dictionary 113_2012_house_popular_vote.json (created by save_113_2012_house_popular_vote.ipynb)\n",
    "filename = '../data/%d_%d_house_popular_vote.json' % (congNum, year)\n",
    "with open(filename,'rb') as f1:\n",
    "    popv = json.load(f1)\n",
    "\n",
    "popv = cong.reapportionSeats(popv,method=methodReapportion)"
   ]
  },
  {
   "cell_type": "code",
   "execution_count": 3,
   "metadata": {
    "collapsed": false
   },
   "outputs": [],
   "source": [
    "# load data for creating dataframe\n",
    "\n",
    "# state PVI from Cook Political Report;\n",
    "# manually copied from http://cookpolitical.com/file/filename.pdf into ../data/pvi_data.csv\n",
    "dfstatepvi = pd.read_csv('../data/pvi_state.csv', header=0, names = ['state','pvi2010','pvi2014'])\n",
    "dfstatepvi['state'] = dfstatepvi['state'].map(str.strip)\n",
    "dfstatepvi['pvi2010'] = dfstatepvi['pvi2010'].map(str.strip)\n",
    "dfstatepvi['pvi2014'] = dfstatepvi['pvi2014'].map(str.strip)\n",
    "\n",
    "# Read compactness scores per district in compactness113_byGEO.json;\n",
    "# districts didn't change between 2012 and 2014 so 113 and 114 are both applicable to both elections\n",
    "filename = '../data/compactness113_byGEO.json'\n",
    "with open(filename,\"rb\") as f3:\n",
    "    comp = json.load(f3)\n",
    "\n",
    "# Read the state redistricting summary redistricting_2010.json (created by get_redistricting_authorities.ipynb);\n",
    "# per state: this contains the number of seats, redistricting method, redistricting control\n",
    "with open(\"../data/redistricting_2010.json\",\"rb\") as f2:\n",
    "    dist = json.load(f2)\n",
    "\n",
    "# get census data per district and use it to calculate percentage of population per race per state;\n",
    "# could instead get voting age\n",
    "usecols = [1, 49, 50, 51, 52, 53, 54, 55]\n",
    "names = ['state', 'total', 'white', 'black', 'hispa', 'asian', 'nativ', 'other']\n",
    "dfcensus = pd.read_csv('../data/114_2014_house_election_2010census.csv', header=None, skiprows=[0,1,2], usecols=usecols, names=names)\n",
    "dfcensus['state'] = dfcensus['state'].map(str.strip)\n",
    "\n",
    "# IPV113 contains district-level info.\n",
    "# we created it from data in ../data/compactness113_byGEO.json and ../data/pvi_district.csv.\n",
    "# per district: compactness, PVI (\"score\" key in each district), presidential election info, etc.\n",
    "with open('../data/IPV113.json','rb') as f:\n",
    "    pviDict = json.load(f)"
   ]
  },
  {
   "cell_type": "code",
   "execution_count": 4,
   "metadata": {
    "collapsed": false
   },
   "outputs": [],
   "source": [
    "# put the data in a dataframe\n",
    "df = cong.create_df_dist(popv,comp,dist,dfcensus,dfstatepvi,pviDict)"
   ]
  },
  {
   "cell_type": "code",
   "execution_count": 5,
   "metadata": {
    "collapsed": false
   },
   "outputs": [],
   "source": [
    "# save the district-level dataframe\n",
    "\n",
    "filename = '../data/df_distSummary_%d_%sReapportion.pkl' % (year, methodReapportion)\n",
    "df.to_pickle(filename)"
   ]
  },
  {
   "cell_type": "code",
   "execution_count": 6,
   "metadata": {
    "collapsed": false
   },
   "outputs": [],
   "source": [
    "# summarize the states into their own dataframe\n",
    "dfstate = cong.summary_dist2state(df)"
   ]
  },
  {
   "cell_type": "code",
   "execution_count": 7,
   "metadata": {
    "collapsed": false
   },
   "outputs": [],
   "source": [
    "# save the state-level dataframe\n",
    "\n",
    "filename = '../data/df_stateSummary_%d_%sReapportion.pkl' % (year, methodReapportion)\n",
    "dfstate.to_pickle(filename)"
   ]
  }
 ],
 "metadata": {
  "kernelspec": {
   "display_name": "Python 2",
   "language": "python",
   "name": "python2"
  },
  "language_info": {
   "codemirror_mode": {
    "name": "ipython",
    "version": 2
   },
   "file_extension": ".py",
   "mimetype": "text/x-python",
   "name": "python",
   "nbconvert_exporter": "python",
   "pygments_lexer": "ipython2",
   "version": "2.7.9"
  }
 },
 "nbformat": 4,
 "nbformat_minor": 0
}
