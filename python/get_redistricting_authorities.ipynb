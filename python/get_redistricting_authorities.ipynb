{
 "cells": [
  {
   "cell_type": "code",
   "execution_count": null,
   "metadata": {
    "collapsed": false
   },
   "outputs": [],
   "source": [
    "from bs4 import BeautifulSoup\n",
    "import requests\n",
    "import json"
   ]
  },
  {
   "cell_type": "code",
   "execution_count": null,
   "metadata": {
    "collapsed": false
   },
   "outputs": [],
   "source": [
    "url = 'http://redistricting.lls.edu/who-partyfed.php'\n",
    "\n",
    "# use html5lib to parse the broken html table\n",
    "soup = BeautifulSoup(requests.get(url).content, 'html5lib')"
   ]
  },
  {
   "cell_type": "code",
   "execution_count": null,
   "metadata": {
    "collapsed": false
   },
   "outputs": [],
   "source": [
    "table =  soup.findAll('table')[1]\n",
    "\n",
    "headers = []\n",
    "for th in table.findAll('th'):\n",
    "    #for cont in tr.findAll('td'):\n",
    "        #if len(cont.text)>1:\n",
    "    headers.append(th.text)\n",
    "print headers"
   ]
  },
  {
   "cell_type": "code",
   "execution_count": null,
   "metadata": {
    "collapsed": false
   },
   "outputs": [],
   "source": [
    "# states_info = table.findAll('tr', {'class': 'odd'})\n",
    "\n",
    "states_info = table.findAll('tr')\n"
   ]
  },
  {
   "cell_type": "code",
   "execution_count": null,
   "metadata": {
    "collapsed": false
   },
   "outputs": [],
   "source": [
    "#dictionary between full state names and abbreviations\n",
    "with open(\"../data/state2St.json\",\"rb\") as f4:\n",
    "    states = json.load(f4)\n",
    "\n",
    "#dictionary between FIPS and states\n",
    "with open(\"../data/st2Fips.json\",\"rb\") as f3:\n",
    "    fips = json.load(f3)\n",
    "\n",
    "states_redist2010 = {}\n",
    "for info in states_info:\n",
    "    state = info.findAll('td')\n",
    "    if len(state) > 0:\n",
    "        row = {}\n",
    "        row['state'] = states[state[0].text]\n",
    "        row['seats'] = int(state[1].text)\n",
    "\n",
    "        ctrl = state[2].text\n",
    "        if 'vetoproof' in ctrl:\n",
    "            row['vetoproof'] = True\n",
    "        else:\n",
    "            row['vetoproof'] = False\n",
    "        \n",
    "        if 'Democratic' in ctrl:\n",
    "            ctrl = 'D'\n",
    "        elif 'Republican' in ctrl:\n",
    "            ctrl = 'R'\n",
    "        elif 'One congressional district' in ctrl and row['seats'] == 1:\n",
    "            ctrl = 'OneDistrict'\n",
    "        elif 'Split' in ctrl: # bipartisan commission, either independent or political\n",
    "            ctrl = 'Split'\n",
    "        elif 'Nonpartisan' in ctrl: # Nebraska only\n",
    "            ctrl = 'Nonpartisan'\n",
    "        else:\n",
    "            #ctrl = 'ERROR'\n",
    "            print 'Did not find redistricting control case for ' + row['state']\n",
    "        row['redist_ctrl'] = ctrl\n",
    "        \n",
    "        row['governor_party'] = 'NA'\n",
    "        row['redist_committee'] = 'NA'\n",
    "        upper_D = 0\n",
    "        upper_R = 0\n",
    "        upper_O = 0\n",
    "        lower_D = 0\n",
    "        lower_R = 0\n",
    "        lower_O = 0\n",
    "        if len(state) == 4:\n",
    "            row['redist_committee'] = state[3].text\n",
    "        elif len(state) > 4:\n",
    "            # all states except those with one district or a bipartisan commission\n",
    "            if state[3].text == 'D':\n",
    "                row['governor_party'] = 'D'\n",
    "            elif state[3].text == 'R':\n",
    "                row['governor_party'] = 'R'\n",
    "            elif state[3].text == 'I': # Rhode Island\n",
    "                row['governor_party'] = 'I'\n",
    "            elif state[3].text == 'No veto': # Connecticuit and North Carolina have \"no veto\"\n",
    "                row['governor_party'] = 'NoVeto'\n",
    "            else:\n",
    "                print 'No governor party found for ' + row['state']\n",
    "            \n",
    "            if len(state) == 5: # Nebraska\n",
    "                row['redist_committee'] = state[4].text\n",
    "            elif len(state) == 6:\n",
    "                row['redist_committee'] = 'Legislative'\n",
    "                upper = state[4].text.split(', ')\n",
    "                for p in upper:\n",
    "                    if p[-1] == 'D':\n",
    "                        upper_D = int(p.split(' ')[0])\n",
    "                    elif p[-1] == 'R':\n",
    "                        upper_R = int(p.split(' ')[0])\n",
    "                    elif p[-1] == 'O':\n",
    "                        upper_O = int(p.split(' ')[0])\n",
    "\n",
    "                lower = state[5].text.split(', ')\n",
    "                for p in lower:\n",
    "                    if p[-1] == 'D':\n",
    "                        lower_D = int(p.split(' ')[0])\n",
    "                    elif p[-1] == 'R':\n",
    "                        lower_R = int(p.split(' ')[0])\n",
    "                    elif p[-1] == 'O':\n",
    "                        lower_O = int(p.split(' ')[0])\n",
    "        \n",
    "        row['upper_D'] = upper_D\n",
    "        row['upper_R'] = upper_R\n",
    "        row['upper_O'] = upper_O\n",
    "        row['lower_D'] = lower_D\n",
    "        row['lower_R'] = lower_R\n",
    "        row['lower_O'] = lower_O\n",
    "\n",
    "        #row = []\n",
    "        #for item in state:\n",
    "        #    row.append(item.text)\n",
    "        states_redist2010[fips[row['state']]] = row"
   ]
  },
  {
   "cell_type": "code",
   "execution_count": null,
   "metadata": {
    "collapsed": false
   },
   "outputs": [],
   "source": [
    "with open('../data/congress/redistricting_2010.json', 'wb') as f:\n",
    "    f.write(json.dumps(states_redist2010))"
   ]
  }
 ],
 "metadata": {
  "kernelspec": {
   "display_name": "Python 2",
   "language": "python",
   "name": "python2"
  },
  "language_info": {
   "codemirror_mode": {
    "name": "ipython",
    "version": 2
   },
   "file_extension": ".py",
   "mimetype": "text/x-python",
   "name": "python",
   "nbconvert_exporter": "python",
   "pygments_lexer": "ipython2",
   "version": "2.7.9"
  }
 },
 "nbformat": 4,
 "nbformat_minor": 0
}
