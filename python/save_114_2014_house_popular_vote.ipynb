{
 "cells": [
  {
   "cell_type": "markdown",
   "metadata": {},
   "source": [
    "### Downloaded csv for house popular vote from https://docs.google.com/spreadsheet/ccc?key=0AjYj9mXElO_QdHVsbnNNdXRoaUE5QThHclNWaTgzb2c&usp=drive_web#gid=0"
   ]
  },
  {
   "cell_type": "code",
   "execution_count": null,
   "metadata": {
    "collapsed": false
   },
   "outputs": [],
   "source": [
    "# import csv\n",
    "import json\n",
    "# import numpy as np\n",
    "import pandas as pd"
   ]
  },
  {
   "cell_type": "code",
   "execution_count": null,
   "metadata": {
    "collapsed": false
   },
   "outputs": [],
   "source": [
    "#dictionary between FIPS and states\n",
    "with open(\"../data/st2Fips.json\",\"rb\") as f3:\n",
    "    fips = json.load(f3)\n",
    "\n",
    "#dictionary between full state names and abbreviations\n",
    "with open(\"../data/state2St.json\",\"rb\") as f4:\n",
    "    states = json.load(f4)\n",
    "\n",
    "# read into pandas data frame\n",
    "df = pd.read_csv('../data/114_2014_house_popular_vote.csv', header=0, skiprows=[0,1], usecols = [0,1,2,3,4,5,6,7], names = ['state','cd','pvi','name','party','demVotes','repVotes','othVotes'])\n",
    "nRows = len(df)\n",
    "\n",
    "df[\"state\"] = df[\"state\"].map(str.strip)\n",
    "df[\"cd\"] = df[\"cd\"].map(str.strip)\n",
    "df[\"pvi\"] = df[\"pvi\"].map(str.strip)\n",
    "df[\"name\"] = df[\"name\"].map(str.strip)\n",
    "df[\"party\"] = df[\"party\"].map(str.strip)\n",
    "\n",
    "# set \"At Large\" districts to 0\n",
    "df['cd'][df['cd'] == 'AL'] = '0'\n",
    "\n",
    "# convert votes to numbers\n",
    "df['demVotes'] = df['demVotes'].str.replace(',','').convert_objects(convert_numeric=True)\n",
    "df['repVotes'] = df['repVotes'].str.replace(',','').convert_objects(convert_numeric=True)\n",
    "df['othVotes'] = df['othVotes'].str.replace(',','').convert_objects(convert_numeric=True)\n"
   ]
  },
  {
   "cell_type": "code",
   "execution_count": null,
   "metadata": {
    "collapsed": false
   },
   "outputs": [],
   "source": [
    "thisState = ''\n",
    "thisDistrict = ''\n",
    "\n",
    "c114_dict = {}\n",
    "\n",
    "for i in range(len(df)):\n",
    "    if df['state'][i] != thisState:\n",
    "        thisState = df['state'][i]\n",
    "        thisStateAbbrev = states[thisState]\n",
    "        # found a new state, start a new temporary dictionary\n",
    "        stateDict = {}\n",
    "        stateDict['state'] = thisStateAbbrev\n",
    "        # initialize district party tally\n",
    "        stateDict['demDistr'] = 0\n",
    "        stateDict['repDistr'] = 0\n",
    "        stateDict['othDistr'] = 0\n",
    "        # initialize vote tally\n",
    "        stateDict['demVotes'] = 0\n",
    "        stateDict['repVotes'] = 0\n",
    "        stateDict['othVotes'] = 0\n",
    "    \n",
    "    if thisState in states:\n",
    "        cd = df['cd'][i]\n",
    "        if len(cd) == 1:\n",
    "            cd = '0' + cd\n",
    "        \n",
    "        newDistrict = False\n",
    "        if cd != thisDistrict:\n",
    "            thisDistrict = cd\n",
    "            newDistrict = True\n",
    "            # found a new district, start a new temporary dictionary\n",
    "            cdDict = {}\n",
    "            \n",
    "            # initialize vote tally\n",
    "            cdDict['repVotes'] = 0\n",
    "            cdDict['demVotes'] = 0\n",
    "            cdDict['othVotes'] = 0\n",
    "\n",
    "        if df['party'][i] == 'D':\n",
    "            thisParty = 'D'\n",
    "            stateDict['demDistr'] += 1\n",
    "        elif df['party'][i] == 'R':\n",
    "            thisParty = 'R'\n",
    "            stateDict['repDistr'] += 1\n",
    "        else:\n",
    "            thisParty = 'O'\n",
    "            stateDict['othDistr'] += 1\n",
    "        \n",
    "        cdDict['name'] = df['name'][i].decode(\"ascii\", \"ignore\")\n",
    "        cdDict['party'] = thisParty\n",
    "\n",
    "        if newDistrict or cd == thisDistrict:\n",
    "            # tally dem, rep, and other votes\n",
    "            cdDict['demVotes'] += df['demVotes'][i]\n",
    "            stateDict['demVotes'] += df['demVotes'][i]\n",
    "            cdDict['repVotes'] += df['repVotes'][i]\n",
    "            stateDict['repVotes'] += df['repVotes'][i]\n",
    "            cdDict['othVotes'] += df['othVotes'][i]\n",
    "            stateDict['othVotes'] += df['othVotes'][i]\n",
    "            stateDict[cd] = cdDict\n",
    "        \n",
    "        if ((i+1) < len(df) and thisState != df['state'][i+1]) or i+1 == len(df):\n",
    "            c114_dict[fips[thisStateAbbrev]] = stateDict\n"
   ]
  },
  {
   "cell_type": "code",
   "execution_count": null,
   "metadata": {
    "collapsed": false
   },
   "outputs": [],
   "source": [
    "with open('../data/114_2014_house_popular_vote.json', 'wb') as f:\n",
    "    f.write(json.dumps(c114_dict))"
   ]
  }
 ],
 "metadata": {
  "kernelspec": {
   "display_name": "Python 2",
   "language": "python",
   "name": "python2"
  },
  "language_info": {
   "codemirror_mode": {
    "name": "ipython",
    "version": 2
   },
   "file_extension": ".py",
   "mimetype": "text/x-python",
   "name": "python",
   "nbconvert_exporter": "python",
   "pygments_lexer": "ipython2",
   "version": "2.7.9"
  }
 },
 "nbformat": 4,
 "nbformat_minor": 0
}
